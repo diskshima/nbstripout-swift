{
  "nbformat": 4,
  "nbformat_minor": 0,
  "metadata": {
    "colab": {
      "name": "Untitled0.ipynb",
      "provenance": [],
      "collapsed_sections": []
    },
    "kernelspec": {
      "name": "python3",
      "display_name": "Python 3"
    },
    "accelerator": "GPU"
  },
  "cells": [
    {
      "cell_type": "code",
      "metadata": {
        "id": "E7NSIbbxiFJN",
        "colab_type": "code",
        "colab": {}
      },
      "source": [
        "def fizzbuzz(n):\n",
        "    for i in range(1, n + 1):\n",
        "        str = \"\"\n",
        "        if (i % 3) == 0:\n",
        "            str += \"fizz\"\n",
        "        if (i % 5) == 0:\n",
        "            str += \"buzz\"\n",
        "        print(i, str)"
      ],
      "execution_count": 0,
      "outputs": []
    },
    {
      "cell_type": "code",
      "metadata": {
        "id": "C6mcEhj2ipoX",
        "colab_type": "code",
        "colab": {
          "base_uri": "https://localhost:8080/",
          "height": 289
        },
        "outputId": "f33ce7fd-f839-443d-c53c-7443dbd0bcd5"
      },
      "source": [
        "fizzbuzz(15)"
      ],
      "execution_count": 2,
      "outputs": [
        {
          "output_type": "stream",
          "text": [
            "1 \n",
            "2 \n",
            "3 fizz\n",
            "4 \n",
            "5 buzz\n",
            "6 fizz\n",
            "7 \n",
            "8 \n",
            "9 fizz\n",
            "10 buzz\n",
            "11 \n",
            "12 fizz\n",
            "13 \n",
            "14 \n",
            "15 fizzbuzz\n"
          ],
          "name": "stdout"
        }
      ]
    },
    {
      "cell_type": "code",
      "metadata": {
        "id": "TeaCB_wdiskg",
        "colab_type": "code",
        "colab": {}
      },
      "source": [
        ""
      ],
      "execution_count": 0,
      "outputs": []
    }
  ]
}